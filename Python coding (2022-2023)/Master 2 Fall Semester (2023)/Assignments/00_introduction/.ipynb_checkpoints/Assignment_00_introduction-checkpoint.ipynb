{
 "cells": [
  {
   "cell_type": "code",
   "execution_count": null,
   "id": "164d8592",
   "metadata": {},
   "outputs": [],
   "source": [
    "import numpy as np\n",
    "import matplotlib.pyplot as plt"
   ]
  },
  {
   "cell_type": "code",
   "execution_count": null,
   "id": "7a51a951",
   "metadata": {},
   "outputs": [],
   "source": [
    "def normal(x: np.ndarray, sigma: float, mu: float) -> np.ndarray:\n",
    "    # Part 1.1\n",
    "    '''\n",
    "    Returns the probability of x according to the Gaussian\n",
    "    PDF, given a standard deviation and the mean\n",
    "    '''\n",
    "    delta = np.finfo(np.float).eps\n",
    "    return np.exp(-np.power(x-mu, 2)/(2*np.power(sigma+delta, 2)))/\\\n",
    "        np.sqrt(2*np.pi*np.power(sigma+delta, 2))"
   ]
  },
  {
   "cell_type": "code",
   "execution_count": null,
   "id": "40aac9f4",
   "metadata": {},
   "outputs": [],
   "source": [
    "def plot_normal(sigma: float, mu:float, x_start: float, x_end: float):\n",
    "    # Part 1.2\n",
    "    xs = np.linspace(x_start, x_end, num=500)\n",
    "    plt.plot(xs, normal(xs, sigma, mu))"
   ]
  },
  {
   "cell_type": "code",
   "execution_count": null,
   "id": "9cfbd722",
   "metadata": {},
   "outputs": [],
   "source": [
    "def _plot_three_normals():\n",
    "    # Part 1.2\n",
    "    plot_normal(0.5, 0, -5, 5)\n",
    "    plot_normal(0.25, 1, -5, 5)\n",
    "    plot_normal(1, 1.5, -5, 5)\n",
    "    plt.show()\n",
    "_plot_three_normals()"
   ]
  },
  {
   "cell_type": "code",
   "execution_count": null,
   "id": "8c9f2725",
   "metadata": {},
   "outputs": [],
   "source": [
    "def normal_mixture(x: np.ndarray, sigmas: list, mus: list, weights: list):\n",
    "    # Part 2.1"
   ]
  },
  {
   "cell_type": "code",
   "execution_count": null,
   "id": "856e18d4",
   "metadata": {},
   "outputs": [],
   "source": [
    "def _compare_components_and_mixture():\n",
    "    # Part 2.2"
   ]
  },
  {
   "cell_type": "code",
   "execution_count": null,
   "id": "8f4779a6",
   "metadata": {},
   "outputs": [],
   "source": [
    "def sample_gaussian_mixture(sigmas: list, mus: list, weights: list, n_samples: int = 500):\n",
    "    # Part 3.1\n"
   ]
  },
  {
   "cell_type": "code",
   "execution_count": null,
   "id": "29285dd1",
   "metadata": {},
   "outputs": [],
   "source": [
    "def _plot_mixture_and_samples():\n",
    "    # Part 3.2\n"
   ]
  },
  {
   "cell_type": "code",
   "execution_count": null,
   "id": "d59e1290",
   "metadata": {},
   "outputs": [],
   "source": [
    "if __name__ == '__main__':\n",
    "    # select your function to test here and do `python3 template.py`"
   ]
  },
  {
   "cell_type": "code",
   "execution_count": null,
   "id": "483c6f92",
   "metadata": {},
   "outputs": [],
   "source": []
  },
  {
   "cell_type": "code",
   "execution_count": null,
   "id": "da6bc8cf",
   "metadata": {},
   "outputs": [],
   "source": []
  },
  {
   "cell_type": "code",
   "execution_count": null,
   "id": "f7b5e2f7",
   "metadata": {},
   "outputs": [],
   "source": []
  },
  {
   "cell_type": "code",
   "execution_count": null,
   "id": "1584894c",
   "metadata": {},
   "outputs": [],
   "source": []
  },
  {
   "cell_type": "code",
   "execution_count": null,
   "id": "d21bb9c6",
   "metadata": {},
   "outputs": [],
   "source": []
  }
 ],
 "metadata": {
  "kernelspec": {
   "display_name": "Python 3 (ipykernel)",
   "language": "python",
   "name": "python3"
  },
  "language_info": {
   "codemirror_mode": {
    "name": "ipython",
    "version": 3
   },
   "file_extension": ".py",
   "mimetype": "text/x-python",
   "name": "python",
   "nbconvert_exporter": "python",
   "pygments_lexer": "ipython3",
   "version": "3.8.8"
  }
 },
 "nbformat": 4,
 "nbformat_minor": 5
}
