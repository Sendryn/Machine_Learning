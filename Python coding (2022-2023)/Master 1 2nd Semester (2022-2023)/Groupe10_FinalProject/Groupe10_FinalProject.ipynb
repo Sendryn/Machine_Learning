{
 "cells": [
  {
   "cell_type": "markdown",
   "id": "58d4ee68",
   "metadata": {},
   "source": [
    "## Group 10 : Luca LEMARCHAND, Sandrine NEANG, Amina SIALI, Hugo TERRASSE"
   ]
  },
  {
   "cell_type": "markdown",
   "id": "94d941d1",
   "metadata": {},
   "source": [
    "# Recurrent Neutral Network (RNN) Project"
   ]
  },
  {
   "cell_type": "markdown",
   "id": "f38ab03b",
   "metadata": {},
   "source": [
    "#### Dataset source : https://www.kaggle.com/datasets/sudalairajkumar/novel-corona-virus-2019-dataset?select=covid_19_data.csv\n",
    "\n",
    "#### 2019 Novel Coronavirus (2019-nCoV) is a coronavirus identified as the cause of an outbreak of respiratory illness first detected in Wuhan, China. Early on, many of the patients in the outbreak in Wuhan, China reportedly had some link to a large seafood and animal market, suggesting animal-to-person spread. However, a growing number of patients reportedly have not had exposure to animal markets, indicating person-to-person spread is occurring. At this time, it’s unclear how easily or sustainably this virus is spreading between people.\n",
    "\n",
    "#### This dataset has daily level information on the number of affected cases, deaths and recovery from 2019 novel coronavirus. Please note that this is a time series data and so the number of cases on any given day is the cumulative number.\n",
    "\n",
    "#### This dataset cover confirmed cases of covid from January 22th, 2020 to 29th May, 2021"
   ]
  },
  {
   "cell_type": "markdown",
   "id": "cfbea577",
   "metadata": {},
   "source": [
    "## I - Data Preprossessing"
   ]
  },
  {
   "cell_type": "markdown",
   "id": "72e3ed33",
   "metadata": {},
   "source": [
    "### Importing the libraries"
   ]
  },
  {
   "cell_type": "code",
   "execution_count": 1,
   "id": "979e2752",
   "metadata": {},
   "outputs": [],
   "source": [
    "import numpy as np\n",
    "import matplotlib.pyplot as plt\n",
    "import pandas as pd"
   ]
  },
  {
   "cell_type": "markdown",
   "id": "f2a280f0",
   "metadata": {},
   "source": [
    "### Importing the dataset"
   ]
  },
  {
   "cell_type": "code",
   "execution_count": 2,
   "id": "6b4ff99f",
   "metadata": {},
   "outputs": [],
   "source": [
    "dataset = pd.read_csv('covid_19_data.csv')"
   ]
  },
  {
   "cell_type": "code",
   "execution_count": 3,
   "id": "ebc3a819",
   "metadata": {},
   "outputs": [
    {
     "data": {
      "text/plain": [
       "(306429, 8)"
      ]
     },
     "execution_count": 3,
     "metadata": {},
     "output_type": "execute_result"
    }
   ],
   "source": [
    "dataset.shape"
   ]
  },
  {
   "cell_type": "markdown",
   "id": "f1b78d07",
   "metadata": {},
   "source": [
    "#### Display of the different types of variables"
   ]
  },
  {
   "cell_type": "code",
   "execution_count": 4,
   "id": "a04d915c",
   "metadata": {},
   "outputs": [
    {
     "data": {
      "text/plain": [
       "SNo                  int64\n",
       "ObservationDate     object\n",
       "Province/State      object\n",
       "Country/Region      object\n",
       "Last Update         object\n",
       "Confirmed          float64\n",
       "Deaths             float64\n",
       "Recovered          float64\n",
       "dtype: object"
      ]
     },
     "execution_count": 4,
     "metadata": {},
     "output_type": "execute_result"
    }
   ],
   "source": [
    "dataset.dtypes"
   ]
  },
  {
   "cell_type": "markdown",
   "id": "69c56831",
   "metadata": {},
   "source": [
    "#### By converting these columns to datetime format, we can manipulate and analyze the date and time information more easily. It allows us to perform time-series analysis, plot trends over time and extract specific time-related information such as month, day, or hour."
   ]
  },
  {
   "cell_type": "code",
   "execution_count": 5,
   "id": "8e400d1c",
   "metadata": {},
   "outputs": [],
   "source": [
    "dataset['ObservationDate'] = pd.to_datetime(dataset['ObservationDate'])\n",
    "dataset['Last Update'] = pd.to_datetime(dataset['Last Update'])"
   ]
  },
  {
   "cell_type": "markdown",
   "id": "196005d6",
   "metadata": {},
   "source": [
    "#### Quick overview of the structure and content of the dataset : display the first 10 rows of the dataset"
   ]
  },
  {
   "cell_type": "code",
   "execution_count": 6,
   "id": "af59f464",
   "metadata": {},
   "outputs": [
    {
     "data": {
      "text/html": [
       "<div>\n",
       "<style scoped>\n",
       "    .dataframe tbody tr th:only-of-type {\n",
       "        vertical-align: middle;\n",
       "    }\n",
       "\n",
       "    .dataframe tbody tr th {\n",
       "        vertical-align: top;\n",
       "    }\n",
       "\n",
       "    .dataframe thead th {\n",
       "        text-align: right;\n",
       "    }\n",
       "</style>\n",
       "<table border=\"1\" class=\"dataframe\">\n",
       "  <thead>\n",
       "    <tr style=\"text-align: right;\">\n",
       "      <th></th>\n",
       "      <th>SNo</th>\n",
       "      <th>ObservationDate</th>\n",
       "      <th>Province/State</th>\n",
       "      <th>Country/Region</th>\n",
       "      <th>Last Update</th>\n",
       "      <th>Confirmed</th>\n",
       "      <th>Deaths</th>\n",
       "      <th>Recovered</th>\n",
       "    </tr>\n",
       "  </thead>\n",
       "  <tbody>\n",
       "    <tr>\n",
       "      <th>0</th>\n",
       "      <td>1</td>\n",
       "      <td>2020-01-22</td>\n",
       "      <td>Anhui</td>\n",
       "      <td>Mainland China</td>\n",
       "      <td>2020-01-22 17:00:00</td>\n",
       "      <td>1.0</td>\n",
       "      <td>0.0</td>\n",
       "      <td>0.0</td>\n",
       "    </tr>\n",
       "    <tr>\n",
       "      <th>1</th>\n",
       "      <td>2</td>\n",
       "      <td>2020-01-22</td>\n",
       "      <td>Beijing</td>\n",
       "      <td>Mainland China</td>\n",
       "      <td>2020-01-22 17:00:00</td>\n",
       "      <td>14.0</td>\n",
       "      <td>0.0</td>\n",
       "      <td>0.0</td>\n",
       "    </tr>\n",
       "    <tr>\n",
       "      <th>2</th>\n",
       "      <td>3</td>\n",
       "      <td>2020-01-22</td>\n",
       "      <td>Chongqing</td>\n",
       "      <td>Mainland China</td>\n",
       "      <td>2020-01-22 17:00:00</td>\n",
       "      <td>6.0</td>\n",
       "      <td>0.0</td>\n",
       "      <td>0.0</td>\n",
       "    </tr>\n",
       "    <tr>\n",
       "      <th>3</th>\n",
       "      <td>4</td>\n",
       "      <td>2020-01-22</td>\n",
       "      <td>Fujian</td>\n",
       "      <td>Mainland China</td>\n",
       "      <td>2020-01-22 17:00:00</td>\n",
       "      <td>1.0</td>\n",
       "      <td>0.0</td>\n",
       "      <td>0.0</td>\n",
       "    </tr>\n",
       "    <tr>\n",
       "      <th>4</th>\n",
       "      <td>5</td>\n",
       "      <td>2020-01-22</td>\n",
       "      <td>Gansu</td>\n",
       "      <td>Mainland China</td>\n",
       "      <td>2020-01-22 17:00:00</td>\n",
       "      <td>0.0</td>\n",
       "      <td>0.0</td>\n",
       "      <td>0.0</td>\n",
       "    </tr>\n",
       "    <tr>\n",
       "      <th>5</th>\n",
       "      <td>6</td>\n",
       "      <td>2020-01-22</td>\n",
       "      <td>Guangdong</td>\n",
       "      <td>Mainland China</td>\n",
       "      <td>2020-01-22 17:00:00</td>\n",
       "      <td>26.0</td>\n",
       "      <td>0.0</td>\n",
       "      <td>0.0</td>\n",
       "    </tr>\n",
       "    <tr>\n",
       "      <th>6</th>\n",
       "      <td>7</td>\n",
       "      <td>2020-01-22</td>\n",
       "      <td>Guangxi</td>\n",
       "      <td>Mainland China</td>\n",
       "      <td>2020-01-22 17:00:00</td>\n",
       "      <td>2.0</td>\n",
       "      <td>0.0</td>\n",
       "      <td>0.0</td>\n",
       "    </tr>\n",
       "    <tr>\n",
       "      <th>7</th>\n",
       "      <td>8</td>\n",
       "      <td>2020-01-22</td>\n",
       "      <td>Guizhou</td>\n",
       "      <td>Mainland China</td>\n",
       "      <td>2020-01-22 17:00:00</td>\n",
       "      <td>1.0</td>\n",
       "      <td>0.0</td>\n",
       "      <td>0.0</td>\n",
       "    </tr>\n",
       "    <tr>\n",
       "      <th>8</th>\n",
       "      <td>9</td>\n",
       "      <td>2020-01-22</td>\n",
       "      <td>Hainan</td>\n",
       "      <td>Mainland China</td>\n",
       "      <td>2020-01-22 17:00:00</td>\n",
       "      <td>4.0</td>\n",
       "      <td>0.0</td>\n",
       "      <td>0.0</td>\n",
       "    </tr>\n",
       "    <tr>\n",
       "      <th>9</th>\n",
       "      <td>10</td>\n",
       "      <td>2020-01-22</td>\n",
       "      <td>Hebei</td>\n",
       "      <td>Mainland China</td>\n",
       "      <td>2020-01-22 17:00:00</td>\n",
       "      <td>1.0</td>\n",
       "      <td>0.0</td>\n",
       "      <td>0.0</td>\n",
       "    </tr>\n",
       "  </tbody>\n",
       "</table>\n",
       "</div>"
      ],
      "text/plain": [
       "   SNo ObservationDate Province/State  Country/Region         Last Update  \\\n",
       "0    1      2020-01-22          Anhui  Mainland China 2020-01-22 17:00:00   \n",
       "1    2      2020-01-22        Beijing  Mainland China 2020-01-22 17:00:00   \n",
       "2    3      2020-01-22      Chongqing  Mainland China 2020-01-22 17:00:00   \n",
       "3    4      2020-01-22         Fujian  Mainland China 2020-01-22 17:00:00   \n",
       "4    5      2020-01-22          Gansu  Mainland China 2020-01-22 17:00:00   \n",
       "5    6      2020-01-22      Guangdong  Mainland China 2020-01-22 17:00:00   \n",
       "6    7      2020-01-22        Guangxi  Mainland China 2020-01-22 17:00:00   \n",
       "7    8      2020-01-22        Guizhou  Mainland China 2020-01-22 17:00:00   \n",
       "8    9      2020-01-22         Hainan  Mainland China 2020-01-22 17:00:00   \n",
       "9   10      2020-01-22          Hebei  Mainland China 2020-01-22 17:00:00   \n",
       "\n",
       "   Confirmed  Deaths  Recovered  \n",
       "0        1.0     0.0        0.0  \n",
       "1       14.0     0.0        0.0  \n",
       "2        6.0     0.0        0.0  \n",
       "3        1.0     0.0        0.0  \n",
       "4        0.0     0.0        0.0  \n",
       "5       26.0     0.0        0.0  \n",
       "6        2.0     0.0        0.0  \n",
       "7        1.0     0.0        0.0  \n",
       "8        4.0     0.0        0.0  \n",
       "9        1.0     0.0        0.0  "
      ]
     },
     "execution_count": 6,
     "metadata": {},
     "output_type": "execute_result"
    }
   ],
   "source": [
    "dataset.head(10)"
   ]
  },
  {
   "cell_type": "markdown",
   "id": "9b266649",
   "metadata": {},
   "source": [
    "#### Quick overview of the dataset : display the last 10 rows of the dataset"
   ]
  },
  {
   "cell_type": "code",
   "execution_count": 7,
   "id": "d94b1dda",
   "metadata": {},
   "outputs": [
    {
     "data": {
      "text/html": [
       "<div>\n",
       "<style scoped>\n",
       "    .dataframe tbody tr th:only-of-type {\n",
       "        vertical-align: middle;\n",
       "    }\n",
       "\n",
       "    .dataframe tbody tr th {\n",
       "        vertical-align: top;\n",
       "    }\n",
       "\n",
       "    .dataframe thead th {\n",
       "        text-align: right;\n",
       "    }\n",
       "</style>\n",
       "<table border=\"1\" class=\"dataframe\">\n",
       "  <thead>\n",
       "    <tr style=\"text-align: right;\">\n",
       "      <th></th>\n",
       "      <th>SNo</th>\n",
       "      <th>ObservationDate</th>\n",
       "      <th>Province/State</th>\n",
       "      <th>Country/Region</th>\n",
       "      <th>Last Update</th>\n",
       "      <th>Confirmed</th>\n",
       "      <th>Deaths</th>\n",
       "      <th>Recovered</th>\n",
       "    </tr>\n",
       "  </thead>\n",
       "  <tbody>\n",
       "    <tr>\n",
       "      <th>306419</th>\n",
       "      <td>306420</td>\n",
       "      <td>2021-05-29</td>\n",
       "      <td>Yukon</td>\n",
       "      <td>Canada</td>\n",
       "      <td>2021-05-30 04:20:55</td>\n",
       "      <td>84.0</td>\n",
       "      <td>2.0</td>\n",
       "      <td>82.0</td>\n",
       "    </tr>\n",
       "    <tr>\n",
       "      <th>306420</th>\n",
       "      <td>306421</td>\n",
       "      <td>2021-05-29</td>\n",
       "      <td>Yunnan</td>\n",
       "      <td>Mainland China</td>\n",
       "      <td>2021-05-30 04:20:55</td>\n",
       "      <td>352.0</td>\n",
       "      <td>2.0</td>\n",
       "      <td>331.0</td>\n",
       "    </tr>\n",
       "    <tr>\n",
       "      <th>306421</th>\n",
       "      <td>306422</td>\n",
       "      <td>2021-05-29</td>\n",
       "      <td>Zabaykalsky Krai</td>\n",
       "      <td>Russia</td>\n",
       "      <td>2021-05-30 04:20:55</td>\n",
       "      <td>43126.0</td>\n",
       "      <td>669.0</td>\n",
       "      <td>41650.0</td>\n",
       "    </tr>\n",
       "    <tr>\n",
       "      <th>306422</th>\n",
       "      <td>306423</td>\n",
       "      <td>2021-05-29</td>\n",
       "      <td>Zacatecas</td>\n",
       "      <td>Mexico</td>\n",
       "      <td>2021-05-30 04:20:55</td>\n",
       "      <td>30758.0</td>\n",
       "      <td>2797.0</td>\n",
       "      <td>0.0</td>\n",
       "    </tr>\n",
       "    <tr>\n",
       "      <th>306423</th>\n",
       "      <td>306424</td>\n",
       "      <td>2021-05-29</td>\n",
       "      <td>Zakarpattia Oblast</td>\n",
       "      <td>Ukraine</td>\n",
       "      <td>2021-05-30 04:20:55</td>\n",
       "      <td>61611.0</td>\n",
       "      <td>1586.0</td>\n",
       "      <td>58882.0</td>\n",
       "    </tr>\n",
       "    <tr>\n",
       "      <th>306424</th>\n",
       "      <td>306425</td>\n",
       "      <td>2021-05-29</td>\n",
       "      <td>Zaporizhia Oblast</td>\n",
       "      <td>Ukraine</td>\n",
       "      <td>2021-05-30 04:20:55</td>\n",
       "      <td>102641.0</td>\n",
       "      <td>2335.0</td>\n",
       "      <td>95289.0</td>\n",
       "    </tr>\n",
       "    <tr>\n",
       "      <th>306425</th>\n",
       "      <td>306426</td>\n",
       "      <td>2021-05-29</td>\n",
       "      <td>Zeeland</td>\n",
       "      <td>Netherlands</td>\n",
       "      <td>2021-05-30 04:20:55</td>\n",
       "      <td>29147.0</td>\n",
       "      <td>245.0</td>\n",
       "      <td>0.0</td>\n",
       "    </tr>\n",
       "    <tr>\n",
       "      <th>306426</th>\n",
       "      <td>306427</td>\n",
       "      <td>2021-05-29</td>\n",
       "      <td>Zhejiang</td>\n",
       "      <td>Mainland China</td>\n",
       "      <td>2021-05-30 04:20:55</td>\n",
       "      <td>1364.0</td>\n",
       "      <td>1.0</td>\n",
       "      <td>1324.0</td>\n",
       "    </tr>\n",
       "    <tr>\n",
       "      <th>306427</th>\n",
       "      <td>306428</td>\n",
       "      <td>2021-05-29</td>\n",
       "      <td>Zhytomyr Oblast</td>\n",
       "      <td>Ukraine</td>\n",
       "      <td>2021-05-30 04:20:55</td>\n",
       "      <td>87550.0</td>\n",
       "      <td>1738.0</td>\n",
       "      <td>83790.0</td>\n",
       "    </tr>\n",
       "    <tr>\n",
       "      <th>306428</th>\n",
       "      <td>306429</td>\n",
       "      <td>2021-05-29</td>\n",
       "      <td>Zuid-Holland</td>\n",
       "      <td>Netherlands</td>\n",
       "      <td>2021-05-30 04:20:55</td>\n",
       "      <td>391559.0</td>\n",
       "      <td>4252.0</td>\n",
       "      <td>0.0</td>\n",
       "    </tr>\n",
       "  </tbody>\n",
       "</table>\n",
       "</div>"
      ],
      "text/plain": [
       "           SNo ObservationDate      Province/State  Country/Region  \\\n",
       "306419  306420      2021-05-29               Yukon          Canada   \n",
       "306420  306421      2021-05-29              Yunnan  Mainland China   \n",
       "306421  306422      2021-05-29    Zabaykalsky Krai          Russia   \n",
       "306422  306423      2021-05-29           Zacatecas          Mexico   \n",
       "306423  306424      2021-05-29  Zakarpattia Oblast         Ukraine   \n",
       "306424  306425      2021-05-29   Zaporizhia Oblast         Ukraine   \n",
       "306425  306426      2021-05-29             Zeeland     Netherlands   \n",
       "306426  306427      2021-05-29            Zhejiang  Mainland China   \n",
       "306427  306428      2021-05-29     Zhytomyr Oblast         Ukraine   \n",
       "306428  306429      2021-05-29        Zuid-Holland     Netherlands   \n",
       "\n",
       "               Last Update  Confirmed  Deaths  Recovered  \n",
       "306419 2021-05-30 04:20:55       84.0     2.0       82.0  \n",
       "306420 2021-05-30 04:20:55      352.0     2.0      331.0  \n",
       "306421 2021-05-30 04:20:55    43126.0   669.0    41650.0  \n",
       "306422 2021-05-30 04:20:55    30758.0  2797.0        0.0  \n",
       "306423 2021-05-30 04:20:55    61611.0  1586.0    58882.0  \n",
       "306424 2021-05-30 04:20:55   102641.0  2335.0    95289.0  \n",
       "306425 2021-05-30 04:20:55    29147.0   245.0        0.0  \n",
       "306426 2021-05-30 04:20:55     1364.0     1.0     1324.0  \n",
       "306427 2021-05-30 04:20:55    87550.0  1738.0    83790.0  \n",
       "306428 2021-05-30 04:20:55   391559.0  4252.0        0.0  "
      ]
     },
     "execution_count": 7,
     "metadata": {},
     "output_type": "execute_result"
    }
   ],
   "source": [
    "dataset.tail(10)"
   ]
  },
  {
   "cell_type": "markdown",
   "id": "5ade6cab",
   "metadata": {},
   "source": [
    "#### Display of the different types of variables"
   ]
  },
  {
   "cell_type": "code",
   "execution_count": 8,
   "id": "93897a56",
   "metadata": {},
   "outputs": [
    {
     "data": {
      "text/plain": [
       "SNo                         int64\n",
       "ObservationDate    datetime64[ns]\n",
       "Province/State             object\n",
       "Country/Region             object\n",
       "Last Update        datetime64[ns]\n",
       "Confirmed                 float64\n",
       "Deaths                    float64\n",
       "Recovered                 float64\n",
       "dtype: object"
      ]
     },
     "execution_count": 8,
     "metadata": {},
     "output_type": "execute_result"
    }
   ],
   "source": [
    "dataset.dtypes"
   ]
  },
  {
   "cell_type": "markdown",
   "id": "a8f2f6b9",
   "metadata": {},
   "source": [
    "#### Creation of the dataset that we will use for the RNN model : We grouped the data by dates and we adapt the dataset with only the data that are useful for the prediction."
   ]
  },
  {
   "cell_type": "code",
   "execution_count": 9,
   "id": "717ed907",
   "metadata": {},
   "outputs": [],
   "source": [
    "dataset_rnn = dataset.groupby(['ObservationDate']).agg({'Confirmed':'sum','Recovered':'sum','Deaths':'sum'})"
   ]
  },
  {
   "cell_type": "code",
   "execution_count": 10,
   "id": "681be029",
   "metadata": {},
   "outputs": [
    {
     "data": {
      "text/plain": [
       "(494, 3)"
      ]
     },
     "execution_count": 10,
     "metadata": {},
     "output_type": "execute_result"
    }
   ],
   "source": [
    "dataset_rnn.shape"
   ]
  },
  {
   "cell_type": "markdown",
   "id": "fe63c2f6",
   "metadata": {},
   "source": [
    "#### Quick overview of the new dataset : display the first 10 rows of the dataset"
   ]
  },
  {
   "cell_type": "code",
   "execution_count": 11,
   "id": "1ba2d628",
   "metadata": {},
   "outputs": [
    {
     "data": {
      "text/html": [
       "<div>\n",
       "<style scoped>\n",
       "    .dataframe tbody tr th:only-of-type {\n",
       "        vertical-align: middle;\n",
       "    }\n",
       "\n",
       "    .dataframe tbody tr th {\n",
       "        vertical-align: top;\n",
       "    }\n",
       "\n",
       "    .dataframe thead th {\n",
       "        text-align: right;\n",
       "    }\n",
       "</style>\n",
       "<table border=\"1\" class=\"dataframe\">\n",
       "  <thead>\n",
       "    <tr style=\"text-align: right;\">\n",
       "      <th></th>\n",
       "      <th>Confirmed</th>\n",
       "      <th>Recovered</th>\n",
       "      <th>Deaths</th>\n",
       "    </tr>\n",
       "    <tr>\n",
       "      <th>ObservationDate</th>\n",
       "      <th></th>\n",
       "      <th></th>\n",
       "      <th></th>\n",
       "    </tr>\n",
       "  </thead>\n",
       "  <tbody>\n",
       "    <tr>\n",
       "      <th>2020-01-22</th>\n",
       "      <td>557.0</td>\n",
       "      <td>30.0</td>\n",
       "      <td>17.0</td>\n",
       "    </tr>\n",
       "    <tr>\n",
       "      <th>2020-01-23</th>\n",
       "      <td>1097.0</td>\n",
       "      <td>60.0</td>\n",
       "      <td>34.0</td>\n",
       "    </tr>\n",
       "    <tr>\n",
       "      <th>2020-01-24</th>\n",
       "      <td>941.0</td>\n",
       "      <td>39.0</td>\n",
       "      <td>26.0</td>\n",
       "    </tr>\n",
       "    <tr>\n",
       "      <th>2020-01-25</th>\n",
       "      <td>1437.0</td>\n",
       "      <td>42.0</td>\n",
       "      <td>42.0</td>\n",
       "    </tr>\n",
       "    <tr>\n",
       "      <th>2020-01-26</th>\n",
       "      <td>2118.0</td>\n",
       "      <td>56.0</td>\n",
       "      <td>56.0</td>\n",
       "    </tr>\n",
       "    <tr>\n",
       "      <th>2020-01-27</th>\n",
       "      <td>2927.0</td>\n",
       "      <td>65.0</td>\n",
       "      <td>82.0</td>\n",
       "    </tr>\n",
       "    <tr>\n",
       "      <th>2020-01-28</th>\n",
       "      <td>5578.0</td>\n",
       "      <td>108.0</td>\n",
       "      <td>131.0</td>\n",
       "    </tr>\n",
       "    <tr>\n",
       "      <th>2020-01-29</th>\n",
       "      <td>6165.0</td>\n",
       "      <td>127.0</td>\n",
       "      <td>133.0</td>\n",
       "    </tr>\n",
       "    <tr>\n",
       "      <th>2020-01-30</th>\n",
       "      <td>8235.0</td>\n",
       "      <td>145.0</td>\n",
       "      <td>171.0</td>\n",
       "    </tr>\n",
       "    <tr>\n",
       "      <th>2020-01-31</th>\n",
       "      <td>9925.0</td>\n",
       "      <td>225.0</td>\n",
       "      <td>213.0</td>\n",
       "    </tr>\n",
       "  </tbody>\n",
       "</table>\n",
       "</div>"
      ],
      "text/plain": [
       "                 Confirmed  Recovered  Deaths\n",
       "ObservationDate                              \n",
       "2020-01-22           557.0       30.0    17.0\n",
       "2020-01-23          1097.0       60.0    34.0\n",
       "2020-01-24           941.0       39.0    26.0\n",
       "2020-01-25          1437.0       42.0    42.0\n",
       "2020-01-26          2118.0       56.0    56.0\n",
       "2020-01-27          2927.0       65.0    82.0\n",
       "2020-01-28          5578.0      108.0   131.0\n",
       "2020-01-29          6165.0      127.0   133.0\n",
       "2020-01-30          8235.0      145.0   171.0\n",
       "2020-01-31          9925.0      225.0   213.0"
      ]
     },
     "execution_count": 11,
     "metadata": {},
     "output_type": "execute_result"
    }
   ],
   "source": [
    "dataset_rnn.head(10)"
   ]
  },
  {
   "cell_type": "markdown",
   "id": "c978012c",
   "metadata": {},
   "source": [
    "#### Quick overview of the new dataset : display the last 10 rows of the dataset"
   ]
  },
  {
   "cell_type": "code",
   "execution_count": 12,
   "id": "05df4dd1",
   "metadata": {},
   "outputs": [
    {
     "data": {
      "text/html": [
       "<div>\n",
       "<style scoped>\n",
       "    .dataframe tbody tr th:only-of-type {\n",
       "        vertical-align: middle;\n",
       "    }\n",
       "\n",
       "    .dataframe tbody tr th {\n",
       "        vertical-align: top;\n",
       "    }\n",
       "\n",
       "    .dataframe thead th {\n",
       "        text-align: right;\n",
       "    }\n",
       "</style>\n",
       "<table border=\"1\" class=\"dataframe\">\n",
       "  <thead>\n",
       "    <tr style=\"text-align: right;\">\n",
       "      <th></th>\n",
       "      <th>Confirmed</th>\n",
       "      <th>Recovered</th>\n",
       "      <th>Deaths</th>\n",
       "    </tr>\n",
       "    <tr>\n",
       "      <th>ObservationDate</th>\n",
       "      <th></th>\n",
       "      <th></th>\n",
       "      <th></th>\n",
       "    </tr>\n",
       "  </thead>\n",
       "  <tbody>\n",
       "    <tr>\n",
       "      <th>2021-05-20</th>\n",
       "      <td>165182316.0</td>\n",
       "      <td>101886760.0</td>\n",
       "      <td>3430539.0</td>\n",
       "    </tr>\n",
       "    <tr>\n",
       "      <th>2021-05-21</th>\n",
       "      <td>165808192.0</td>\n",
       "      <td>102501548.0</td>\n",
       "      <td>3443314.0</td>\n",
       "    </tr>\n",
       "    <tr>\n",
       "      <th>2021-05-22</th>\n",
       "      <td>166385987.0</td>\n",
       "      <td>103118309.0</td>\n",
       "      <td>3454660.0</td>\n",
       "    </tr>\n",
       "    <tr>\n",
       "      <th>2021-05-23</th>\n",
       "      <td>166862062.0</td>\n",
       "      <td>103620280.0</td>\n",
       "      <td>3464212.0</td>\n",
       "    </tr>\n",
       "    <tr>\n",
       "      <th>2021-05-24</th>\n",
       "      <td>167316362.0</td>\n",
       "      <td>104247872.0</td>\n",
       "      <td>3473036.0</td>\n",
       "    </tr>\n",
       "    <tr>\n",
       "      <th>2021-05-25</th>\n",
       "      <td>167848207.0</td>\n",
       "      <td>104824935.0</td>\n",
       "      <td>3485788.0</td>\n",
       "    </tr>\n",
       "    <tr>\n",
       "      <th>2021-05-26</th>\n",
       "      <td>168416423.0</td>\n",
       "      <td>105380748.0</td>\n",
       "      <td>3498544.0</td>\n",
       "    </tr>\n",
       "    <tr>\n",
       "      <th>2021-05-27</th>\n",
       "      <td>168970791.0</td>\n",
       "      <td>106078106.0</td>\n",
       "      <td>3511297.0</td>\n",
       "    </tr>\n",
       "    <tr>\n",
       "      <th>2021-05-28</th>\n",
       "      <td>169470725.0</td>\n",
       "      <td>106633069.0</td>\n",
       "      <td>3523117.0</td>\n",
       "    </tr>\n",
       "    <tr>\n",
       "      <th>2021-05-29</th>\n",
       "      <td>169951560.0</td>\n",
       "      <td>107140669.0</td>\n",
       "      <td>3533619.0</td>\n",
       "    </tr>\n",
       "  </tbody>\n",
       "</table>\n",
       "</div>"
      ],
      "text/plain": [
       "                   Confirmed    Recovered     Deaths\n",
       "ObservationDate                                     \n",
       "2021-05-20       165182316.0  101886760.0  3430539.0\n",
       "2021-05-21       165808192.0  102501548.0  3443314.0\n",
       "2021-05-22       166385987.0  103118309.0  3454660.0\n",
       "2021-05-23       166862062.0  103620280.0  3464212.0\n",
       "2021-05-24       167316362.0  104247872.0  3473036.0\n",
       "2021-05-25       167848207.0  104824935.0  3485788.0\n",
       "2021-05-26       168416423.0  105380748.0  3498544.0\n",
       "2021-05-27       168970791.0  106078106.0  3511297.0\n",
       "2021-05-28       169470725.0  106633069.0  3523117.0\n",
       "2021-05-29       169951560.0  107140669.0  3533619.0"
      ]
     },
     "execution_count": 12,
     "metadata": {},
     "output_type": "execute_result"
    }
   ],
   "source": [
    "dataset_rnn.tail(10)"
   ]
  },
  {
   "cell_type": "markdown",
   "id": "25104958",
   "metadata": {},
   "source": [
    "### Importing the training set\n",
    "#### By selecting only the confirmed cases column and the observations dates, we are creating a training set that consists of a time series of daily confirmed case counts. "
   ]
  },
  {
   "cell_type": "code",
   "execution_count": 13,
   "id": "71088700",
   "metadata": {},
   "outputs": [],
   "source": [
    "training_set = dataset_rnn.iloc[:,0:1].values"
   ]
  },
  {
   "cell_type": "markdown",
   "id": "19e25752",
   "metadata": {},
   "source": [
    "### Feature scaling\n",
    "\n",
    "#### The purpose of scaling the data is to ensure that all values are on a similar scale and range, which can help to improve the performance of machine learning models."
   ]
  },
  {
   "cell_type": "code",
   "execution_count": 14,
   "id": "2c350dbf",
   "metadata": {},
   "outputs": [],
   "source": [
    "from sklearn.preprocessing import MinMaxScaler\n",
    "sc = MinMaxScaler(feature_range=(0,1))\n",
    "training_set_scaled = sc.fit_transform(training_set)"
   ]
  },
  {
   "cell_type": "markdown",
   "id": "4d519a41",
   "metadata": {},
   "source": [
    "### Creating a data structure with 45 timesteps\n",
    "\n",
    "#### The resulting numpy arrays X_train and y_train will be used to train our recurrent neural network model to predict future values in the time series data."
   ]
  },
  {
   "cell_type": "code",
   "execution_count": 15,
   "id": "73cf54d9",
   "metadata": {},
   "outputs": [],
   "source": [
    "X_train = []\n",
    "y_train = []\n",
    "for i in range(45, 180):\n",
    "    X_train.append(training_set_scaled[i-45:i, 0])\n",
    "    y_train.append(training_set_scaled[i, 0])\n",
    "    \n",
    "X_train, y_train = np.array(X_train) , np.array(y_train) "
   ]
  },
  {
   "cell_type": "markdown",
   "id": "35393154",
   "metadata": {},
   "source": [
    "### Reshaping\n",
    "#### We are reshaping the data in order to transform the input data into a format that can be processed by the RNN model."
   ]
  },
  {
   "cell_type": "code",
   "execution_count": 16,
   "id": "df8652c8",
   "metadata": {},
   "outputs": [],
   "source": [
    "X_train = np.reshape(X_train, (X_train.shape[0], X_train.shape[1], 1))"
   ]
  },
  {
   "cell_type": "markdown",
   "id": "55850621",
   "metadata": {},
   "source": [
    "## II - Building and Training the RNN"
   ]
  },
  {
   "cell_type": "markdown",
   "id": "afe0ab34",
   "metadata": {},
   "source": [
    "### Importing the libraries"
   ]
  },
  {
   "cell_type": "code",
   "execution_count": 17,
   "id": "4834209c",
   "metadata": {},
   "outputs": [],
   "source": [
    "from keras.models import Sequential\n",
    "from keras.layers import Dense\n",
    "from keras.layers import LSTM\n",
    "from keras.layers import Dropout"
   ]
  },
  {
   "cell_type": "markdown",
   "id": "2ebc1daa",
   "metadata": {},
   "source": [
    "### Initialising the RNN\n",
    "\n",
    "#### Sequential() is a class in the Keras API that allows us to create a neural network model as a linear stack of layers."
   ]
  },
  {
   "cell_type": "code",
   "execution_count": 18,
   "id": "f93b0386",
   "metadata": {},
   "outputs": [],
   "source": [
    "regressor = Sequential()"
   ]
  },
  {
   "cell_type": "markdown",
   "id": "55dbc874",
   "metadata": {},
   "source": [
    "#### The LSTM layer takes a sequence of input data, has 50 neurons, and returns the entire sequence of outputs. \n",
    "#### The Dropout layer randomly drops out 20% of the neurons during training to prevent overfitting.\n",
    "\n",
    "#### Therefore, adding multiple layers of LSTM and Dropout regularization can improve the performance of the model by allowing it to learn more complex temporal patterns and reduce overfitting.\n",
    "#### Nevertheless, each additional LSTM layer adds more complexity to the model which allows the model to learn more complex dependencies between time steps. \n",
    "#### However, this complexity also increases the risk of overfitting, which is why the Dropout regularization is added to randomly drop out some neurons during training to force the model to learn more robust features.\n",
    "\n",
    "\n",
    "\n",
    "### Adding the first LSTM layer and some Dropout regularisation"
   ]
  },
  {
   "cell_type": "code",
   "execution_count": 19,
   "id": "057fda66",
   "metadata": {},
   "outputs": [],
   "source": [
    "regressor.add(LSTM(units =50, return_sequences = True, input_shape = (X_train.shape[1], 1)))\n",
    "regressor.add(Dropout(0.2))"
   ]
  },
  {
   "cell_type": "markdown",
   "id": "05a1679e",
   "metadata": {},
   "source": [
    "### Adding a second LSTM layer and some Dropout regularisation"
   ]
  },
  {
   "cell_type": "code",
   "execution_count": 20,
   "id": "18c70e1a",
   "metadata": {},
   "outputs": [],
   "source": [
    "regressor.add(LSTM(units =50, return_sequences = True))\n",
    "regressor.add(Dropout(0.2))"
   ]
  },
  {
   "cell_type": "markdown",
   "id": "29d6d79a",
   "metadata": {},
   "source": [
    "### Adding a third LSTM layer and some Dropout regularisation"
   ]
  },
  {
   "cell_type": "code",
   "execution_count": 21,
   "id": "205d6a08",
   "metadata": {},
   "outputs": [],
   "source": [
    "regressor.add(LSTM(units =50, return_sequences = True))\n",
    "regressor.add(Dropout(0.2))"
   ]
  },
  {
   "cell_type": "markdown",
   "id": "c7bf2091",
   "metadata": {},
   "source": [
    "### Adding a fourth LSTM layer and some Dropout regularisation"
   ]
  },
  {
   "cell_type": "code",
   "execution_count": 22,
   "id": "553fdb1a",
   "metadata": {},
   "outputs": [],
   "source": [
    "regressor.add(LSTM(units =50))\n",
    "regressor.add(Dropout(0.2))"
   ]
  },
  {
   "cell_type": "markdown",
   "id": "06f62e62",
   "metadata": {},
   "source": [
    "### Adding the output layer\n",
    "\n",
    "#### Adding an output layer is essential for training our RNN to make predictions on a given task. The output layer is necessary to convert the output of the previous layers into the final predicted value."
   ]
  },
  {
   "cell_type": "code",
   "execution_count": 23,
   "id": "de30bbb4",
   "metadata": {},
   "outputs": [],
   "source": [
    "regressor.add(Dense(units = 1))"
   ]
  },
  {
   "cell_type": "markdown",
   "id": "a923f259",
   "metadata": {},
   "source": [
    "### Compiling the RNN"
   ]
  },
  {
   "cell_type": "code",
   "execution_count": 24,
   "id": "5701fdb5",
   "metadata": {},
   "outputs": [],
   "source": [
    "regressor.compile(optimizer = 'adam', loss = 'mse')"
   ]
  },
  {
   "cell_type": "markdown",
   "id": "031c86bd",
   "metadata": {},
   "source": [
    "### Fitting the RNN to the Training set\n",
    "\n",
    "#### Fitting the RNN to the training set is the process of training the neural network to learn patterns and trends in the training data by adjusting the weights and biases of the network to minimize the difference between the predicted output and the actual output."
   ]
  },
  {
   "cell_type": "code",
   "execution_count": 25,
   "id": "2a4320c0",
   "metadata": {
    "scrolled": false
   },
   "outputs": [
    {
     "name": "stdout",
     "output_type": "stream",
     "text": [
      "Epoch 1/50\n",
      "27/27 [==============================] - 7s 67ms/step - loss: 4.1325e-04\n",
      "Epoch 2/50\n",
      "27/27 [==============================] - 2s 80ms/step - loss: 8.5245e-05\n",
      "Epoch 3/50\n",
      "27/27 [==============================] - 2s 83ms/step - loss: 3.8076e-05\n",
      "Epoch 4/50\n",
      "27/27 [==============================] - 2s 75ms/step - loss: 3.0309e-05\n",
      "Epoch 5/50\n",
      "27/27 [==============================] - 2s 60ms/step - loss: 2.9774e-05\n",
      "Epoch 6/50\n",
      "27/27 [==============================] - 2s 66ms/step - loss: 4.7162e-05\n",
      "Epoch 7/50\n",
      "27/27 [==============================] - 2s 56ms/step - loss: 2.8554e-05\n",
      "Epoch 8/50\n",
      "27/27 [==============================] - 2s 83ms/step - loss: 2.9479e-05\n",
      "Epoch 9/50\n",
      "27/27 [==============================] - 2s 83ms/step - loss: 2.7756e-05\n",
      "Epoch 10/50\n",
      "27/27 [==============================] - 2s 59ms/step - loss: 2.2264e-05\n",
      "Epoch 11/50\n",
      "27/27 [==============================] - 2s 59ms/step - loss: 2.7090e-05\n",
      "Epoch 12/50\n",
      "27/27 [==============================] - 2s 64ms/step - loss: 3.3263e-05\n",
      "Epoch 13/50\n",
      "27/27 [==============================] - 2s 59ms/step - loss: 2.4089e-05\n",
      "Epoch 14/50\n",
      "27/27 [==============================] - 2s 91ms/step - loss: 2.4161e-05\n",
      "Epoch 15/50\n",
      "27/27 [==============================] - 2s 68ms/step - loss: 3.2751e-05\n",
      "Epoch 16/50\n",
      "27/27 [==============================] - 2s 75ms/step - loss: 2.1284e-05\n",
      "Epoch 17/50\n",
      "27/27 [==============================] - 2s 70ms/step - loss: 3.0962e-05\n",
      "Epoch 18/50\n",
      "27/27 [==============================] - 2s 86ms/step - loss: 4.1428e-05\n",
      "Epoch 19/50\n",
      "27/27 [==============================] - 2s 66ms/step - loss: 4.9337e-05\n",
      "Epoch 20/50\n",
      "27/27 [==============================] - 2s 63ms/step - loss: 3.9676e-05\n",
      "Epoch 21/50\n",
      "27/27 [==============================] - 2s 88ms/step - loss: 4.5819e-05\n",
      "Epoch 22/50\n",
      "27/27 [==============================] - 2s 80ms/step - loss: 2.1172e-05\n",
      "Epoch 23/50\n",
      "27/27 [==============================] - 2s 64ms/step - loss: 2.1591e-05\n",
      "Epoch 24/50\n",
      "27/27 [==============================] - 2s 70ms/step - loss: 3.6931e-05\n",
      "Epoch 25/50\n",
      "27/27 [==============================] - 2s 72ms/step - loss: 3.6017e-05\n",
      "Epoch 26/50\n",
      "27/27 [==============================] - 2s 65ms/step - loss: 3.3713e-05\n",
      "Epoch 27/50\n",
      "27/27 [==============================] - 2s 77ms/step - loss: 1.9760e-05\n",
      "Epoch 28/50\n",
      "27/27 [==============================] - 2s 72ms/step - loss: 2.9688e-05\n",
      "Epoch 29/50\n",
      "27/27 [==============================] - 2s 70ms/step - loss: 1.7542e-05\n",
      "Epoch 30/50\n",
      "27/27 [==============================] - 1s 53ms/step - loss: 1.8756e-05\n",
      "Epoch 31/50\n",
      "27/27 [==============================] - 2s 70ms/step - loss: 2.0306e-05\n",
      "Epoch 32/50\n",
      "27/27 [==============================] - 2s 82ms/step - loss: 1.2820e-05\n",
      "Epoch 33/50\n",
      "27/27 [==============================] - 2s 89ms/step - loss: 1.6129e-05\n",
      "Epoch 34/50\n",
      "27/27 [==============================] - 2s 64ms/step - loss: 2.3693e-05\n",
      "Epoch 35/50\n",
      "27/27 [==============================] - 2s 80ms/step - loss: 1.9564e-05\n",
      "Epoch 36/50\n",
      "27/27 [==============================] - 2s 66ms/step - loss: 1.3177e-05\n",
      "Epoch 37/50\n",
      "27/27 [==============================] - 2s 72ms/step - loss: 1.5075e-05\n",
      "Epoch 38/50\n",
      "27/27 [==============================] - 2s 80ms/step - loss: 1.8838e-05\n",
      "Epoch 39/50\n",
      "27/27 [==============================] - 2s 71ms/step - loss: 3.7974e-05\n",
      "Epoch 40/50\n",
      "27/27 [==============================] - 2s 68ms/step - loss: 1.5704e-05\n",
      "Epoch 41/50\n",
      "27/27 [==============================] - 2s 80ms/step - loss: 1.8026e-05\n",
      "Epoch 42/50\n",
      "27/27 [==============================] - 2s 60ms/step - loss: 9.7382e-06\n",
      "Epoch 43/50\n",
      "27/27 [==============================] - 2s 65ms/step - loss: 1.2991e-05\n",
      "Epoch 44/50\n",
      "27/27 [==============================] - 2s 58ms/step - loss: 1.7172e-05\n",
      "Epoch 45/50\n",
      "27/27 [==============================] - 2s 63ms/step - loss: 9.6041e-06\n",
      "Epoch 46/50\n",
      "27/27 [==============================] - 2s 62ms/step - loss: 1.7589e-05\n",
      "Epoch 47/50\n",
      "27/27 [==============================] - 2s 59ms/step - loss: 2.7343e-05\n",
      "Epoch 48/50\n",
      "27/27 [==============================] - 2s 58ms/step - loss: 1.7791e-05\n",
      "Epoch 49/50\n",
      "27/27 [==============================] - 2s 57ms/step - loss: 1.6331e-05\n",
      "Epoch 50/50\n",
      "27/27 [==============================] - 2s 67ms/step - loss: 8.8671e-06\n"
     ]
    },
    {
     "data": {
      "text/plain": [
       "<keras.callbacks.History at 0x1827cb4b100>"
      ]
     },
     "execution_count": 25,
     "metadata": {},
     "output_type": "execute_result"
    }
   ],
   "source": [
    "regressor.compile(optimizer = 'adam', loss = 'mse')\n",
    "\n",
    "regressor.fit(X_train, y_train, epochs = 50, batch_size = 5)"
   ]
  },
  {
   "cell_type": "markdown",
   "id": "746f432d",
   "metadata": {},
   "source": [
    "## III - Making the predictions and visualising the results"
   ]
  },
  {
   "cell_type": "markdown",
   "id": "0c156fc8",
   "metadata": {},
   "source": [
    "### Getting the real and predicted confirmed cases "
   ]
  },
  {
   "cell_type": "code",
   "execution_count": 26,
   "id": "6b8a184a",
   "metadata": {},
   "outputs": [
    {
     "name": "stdout",
     "output_type": "stream",
     "text": [
      "2/2 [==============================] - 2s 31ms/step\n"
     ]
    }
   ],
   "source": [
    "#Real confirmed cases\n",
    "real_confirmed_cases = dataset_rnn.iloc[170:213,0:1].values\n",
    "\n",
    "#Creation of the testing set\n",
    "X_test = []\n",
    "\n",
    "for i in range(170,213):\n",
    "    X_test.append(training_set_scaled[i-45:i, 0])\n",
    "X_test = np.array(X_test)\n",
    "X_test = np.reshape(X_test, (X_test.shape[0], X_test.shape[1], 1))\n",
    "\n",
    "#Predictions\n",
    "predicted_confirmed_cases = regressor.predict(X_test)\n",
    "predicted_confirmed_cases = sc.inverse_transform(predicted_confirmed_cases)"
   ]
  },
  {
   "cell_type": "markdown",
   "id": "35e8f752",
   "metadata": {},
   "source": [
    "### Visualising the results"
   ]
  },
  {
   "cell_type": "code",
   "execution_count": 27,
   "id": "799c0a06",
   "metadata": {},
   "outputs": [
    {
     "data": {
      "image/png": "[encoded data removed]",
      "text/plain": [
       "<Figure size 864x576 with 1 Axes>"
      ]
     },
     "metadata": {
      "needs_background": "light"
     },
     "output_type": "display_data"
    }
   ],
   "source": [
    "plt.figure(figsize = (12,8))\n",
    "plt.plot(real_confirmed_cases, color='c', label = 'Real Confirmed Cases')\n",
    "plt.plot(predicted_confirmed_cases, color='g', label = 'Predicted Confirmed Cases')\n",
    "plt.title('Coronavirus Forecasting Trend in Cases')\n",
    "plt.xlabel('Days')\n",
    "plt.ylabel('Number of Cases')\n",
    "plt.legend()\n",
    "plt.show()"
   ]
  },
  {
   "cell_type": "markdown",
   "id": "ba2c081a",
   "metadata": {},
   "source": [
    "#### According to this visualizations, the predicted confirmed cases are well predicted because we notice that the green line is almost identical to the blue one which represent the real confirmed cases. It shows indeed that our predictions is very accurate. \n",
    "#### The predictions of our RNN model are quite similar to the real confirmed cases so our model is performing very well considering the limited amount of days to train the model on."
   ]
  },
  {
   "cell_type": "code",
   "execution_count": 28,
   "id": "0f273d18",
   "metadata": {},
   "outputs": [
    {
     "name": "stdout",
     "output_type": "stream",
     "text": [
      "Accuracy rate: 0.962997094057521\n"
     ]
    }
   ],
   "source": [
    "from sklearn.metrics import mean_squared_error\n",
    "\n",
    "mse = mean_squared_error(real_confirmed_cases, predicted_confirmed_cases)\n",
    "accuracy = 1 - mse/np.var(real_confirmed_cases)\n",
    "print(\"Accuracy rate:\", accuracy)"
   ]
  },
  {
   "cell_type": "markdown",
   "id": "54eb8821",
   "metadata": {},
   "source": [
    "#### We can see that our accuracy rate is very close to 1 which shows that the visualization is accurate."
   ]
  },
  {
   "cell_type": "code",
   "execution_count": null,
   "id": "192f11de",
   "metadata": {},
   "outputs": [],
   "source": []
  },
  {
   "cell_type": "code",
   "execution_count": null,
   "id": "c2bcbbce",
   "metadata": {},
   "outputs": [],
   "source": []
  },
  {
   "cell_type": "code",
   "execution_count": null,
   "id": "b6880444",
   "metadata": {},
   "outputs": [],
   "source": []
  },
  {
   "cell_type": "code",
   "execution_count": null,
   "id": "e2e3e95d",
   "metadata": {},
   "outputs": [],
   "source": []
  },
  {
   "cell_type": "code",
   "execution_count": null,
   "id": "9be4a21c",
   "metadata": {},
   "outputs": [],
   "source": []
  },
  {
   "cell_type": "code",
   "execution_count": null,
   "id": "bf3add53",
   "metadata": {},
   "outputs": [],
   "source": []
  },
  {
   "cell_type": "code",
   "execution_count": null,
   "id": "22963699",
   "metadata": {},
   "outputs": [],
   "source": []
  },
  {
   "cell_type": "code",
   "execution_count": null,
   "id": "49849341",
   "metadata": {},
   "outputs": [],
   "source": []
  },
  {
   "cell_type": "code",
   "execution_count": null,
   "id": "967bcac0",
   "metadata": {},
   "outputs": [],
   "source": []
  },
  {
   "cell_type": "code",
   "execution_count": null,
   "id": "72c59688",
   "metadata": {},
   "outputs": [],
   "source": []
  },
  {
   "cell_type": "code",
   "execution_count": null,
   "id": "0c31a3cb",
   "metadata": {},
   "outputs": [],
   "source": []
  },
  {
   "cell_type": "code",
   "execution_count": null,
   "id": "de73d8bd",
   "metadata": {},
   "outputs": [],
   "source": []
  },
  {
   "cell_type": "code",
   "execution_count": null,
   "id": "6847c984",
   "metadata": {},
   "outputs": [],
   "source": []
  }
 ],
 "metadata": {
  "kernelspec": {
   "display_name": "Python 3 (ipykernel)",
   "language": "python",
   "name": "python3"
  },
  "language_info": {
   "codemirror_mode": {
    "name": "ipython",
    "version": 3
   },
   "file_extension": ".py",
   "mimetype": "text/x-python",
   "name": "python",
   "nbconvert_exporter": "python",
   "pygments_lexer": "ipython3",
   "version": "3.8.8"
  }
 },
 "nbformat": 4,
 "nbformat_minor": 5
}
